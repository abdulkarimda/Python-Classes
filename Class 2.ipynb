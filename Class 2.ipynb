{
 "cells": [
  {
   "cell_type": "code",
   "execution_count": 1,
   "id": "9762d573-e788-4f74-bf24-064c3891c79e",
   "metadata": {},
   "outputs": [],
   "source": [
    "name = \"Kareem\""
   ]
  },
  {
   "cell_type": "code",
   "execution_count": 2,
   "id": "3a2320be-7d49-48c0-a406-f88bd8f05780",
   "metadata": {},
   "outputs": [
    {
     "data": {
      "text/plain": [
       "str"
      ]
     },
     "execution_count": 2,
     "metadata": {},
     "output_type": "execute_result"
    }
   ],
   "source": [
    "type(name)"
   ]
  },
  {
   "cell_type": "code",
   "execution_count": 3,
   "id": "8189af47-24c5-4797-89f6-3906ce135c66",
   "metadata": {},
   "outputs": [],
   "source": [
    "num = 10"
   ]
  },
  {
   "cell_type": "code",
   "execution_count": 4,
   "id": "7f522902-5d13-45d8-9c75-d02ca5ad911d",
   "metadata": {},
   "outputs": [
    {
     "data": {
      "text/plain": [
       "int"
      ]
     },
     "execution_count": 4,
     "metadata": {},
     "output_type": "execute_result"
    }
   ],
   "source": [
    "type(num)"
   ]
  },
  {
   "cell_type": "markdown",
   "id": "592e4f42-d7e8-4ed7-8f05-8edf4846872d",
   "metadata": {},
   "source": [
    "# Type Casting "
   ]
  },
  {
   "cell_type": "code",
   "execution_count": 5,
   "id": "b756fb33-edfb-44eb-81b5-5e006f0b92cd",
   "metadata": {},
   "outputs": [],
   "source": [
    "salary = \"20000\""
   ]
  },
  {
   "cell_type": "code",
   "execution_count": 6,
   "id": "5846729d-ab94-4845-b18c-a626ea8996b9",
   "metadata": {},
   "outputs": [
    {
     "data": {
      "text/plain": [
       "str"
      ]
     },
     "execution_count": 6,
     "metadata": {},
     "output_type": "execute_result"
    }
   ],
   "source": [
    "type(salary)"
   ]
  },
  {
   "cell_type": "code",
   "execution_count": 7,
   "id": "4843edda-29f6-4498-804b-d2c245bb222b",
   "metadata": {},
   "outputs": [],
   "source": [
    "salary = int(salary)"
   ]
  },
  {
   "cell_type": "code",
   "execution_count": 8,
   "id": "78282d14-e596-415c-b8b2-ebd2f8b6c334",
   "metadata": {},
   "outputs": [
    {
     "data": {
      "text/plain": [
       "int"
      ]
     },
     "execution_count": 8,
     "metadata": {},
     "output_type": "execute_result"
    }
   ],
   "source": [
    "type(salary)"
   ]
  },
  {
   "cell_type": "code",
   "execution_count": 9,
   "id": "25e0f1cd-9a19-476e-9334-28a64bc58c83",
   "metadata": {},
   "outputs": [
    {
     "data": {
      "text/plain": [
       "20000.0"
      ]
     },
     "execution_count": 9,
     "metadata": {},
     "output_type": "execute_result"
    }
   ],
   "source": [
    "float(salary)"
   ]
  },
  {
   "cell_type": "markdown",
   "id": "49580cc8-e17c-48b9-bac9-3919b6b043a5",
   "metadata": {},
   "source": [
    "### string"
   ]
  },
  {
   "cell_type": "code",
   "execution_count": 10,
   "id": "0f786bca-6b05-4a25-add7-e67bd759883a",
   "metadata": {},
   "outputs": [
    {
     "name": "stdin",
     "output_type": "stream",
     "text": [
      "enter your age:  26\n"
     ]
    }
   ],
   "source": [
    "age = input(\"enter your age: \")"
   ]
  },
  {
   "cell_type": "code",
   "execution_count": 11,
   "id": "dae088af-3f1c-4ca4-90cf-a7406f3b1d70",
   "metadata": {},
   "outputs": [
    {
     "data": {
      "text/plain": [
       "str"
      ]
     },
     "execution_count": 11,
     "metadata": {},
     "output_type": "execute_result"
    }
   ],
   "source": [
    "type(age) # by default output will be str"
   ]
  },
  {
   "cell_type": "code",
   "execution_count": 12,
   "id": "04c46209-4b28-4b59-a0fb-81e20d29a303",
   "metadata": {},
   "outputs": [],
   "source": [
    "age = int(age)"
   ]
  },
  {
   "cell_type": "code",
   "execution_count": 13,
   "id": "0df016da-8a5f-408c-9fd9-28c58036a62c",
   "metadata": {},
   "outputs": [
    {
     "data": {
      "text/plain": [
       "int"
      ]
     },
     "execution_count": 13,
     "metadata": {},
     "output_type": "execute_result"
    }
   ],
   "source": [
    "type(age)"
   ]
  },
  {
   "cell_type": "code",
   "execution_count": 14,
   "id": "59831dc4-0d35-4bc5-a976-00aaf2cc3ea2",
   "metadata": {},
   "outputs": [
    {
     "name": "stdout",
     "output_type": "stream",
     "text": [
      "26\n"
     ]
    }
   ],
   "source": [
    "print(age)"
   ]
  },
  {
   "cell_type": "code",
   "execution_count": 15,
   "id": "fceb2a05-f222-4186-9368-1c95cac74f0f",
   "metadata": {},
   "outputs": [
    {
     "name": "stdout",
     "output_type": "stream",
     "text": [
      "your age is 26\n"
     ]
    }
   ],
   "source": [
    "print(\"your age is\",age)"
   ]
  },
  {
   "cell_type": "markdown",
   "id": "2bd49221-4af1-4e2a-bb06-21195745e55d",
   "metadata": {},
   "source": [
    "### Concatenation "
   ]
  },
  {
   "cell_type": "code",
   "execution_count": 16,
   "id": "d760cce7-a267-4fb1-8a3e-ec593533e07c",
   "metadata": {},
   "outputs": [
    {
     "data": {
      "text/plain": [
       "'abdul Kareem'"
      ]
     },
     "execution_count": 16,
     "metadata": {},
     "output_type": "execute_result"
    }
   ],
   "source": [
    "# +\n",
    "\"abdul\" + \" Kareem\""
   ]
  },
  {
   "cell_type": "code",
   "execution_count": 17,
   "id": "c0c08b51-6a3f-4a61-836d-6fbb986e5d0a",
   "metadata": {},
   "outputs": [
    {
     "data": {
      "text/plain": [
       "'Fatime 26'"
      ]
     },
     "execution_count": 17,
     "metadata": {},
     "output_type": "execute_result"
    }
   ],
   "source": [
    "# We can Only concatenate 2 strings only. If we use other than strings then it will show an error\n",
    "\"Fatime \" + str(age)"
   ]
  },
  {
   "cell_type": "code",
   "execution_count": 18,
   "id": "a6d3d1e6-9cbc-4da7-ab4d-eccae8bd0f2d",
   "metadata": {},
   "outputs": [
    {
     "name": "stdout",
     "output_type": "stream",
     "text": [
      "Hello Mr. Abdul Karim your age is  25\n"
     ]
    }
   ],
   "source": [
    "name = \"Abdul Karim\"\n",
    "age = 25\n",
    "print(\"Hello Mr.\", name, \"your age is \",age)"
   ]
  },
  {
   "cell_type": "code",
   "execution_count": 19,
   "id": "2056fa00-08f8-4577-8fa4-a4baa0fe557a",
   "metadata": {},
   "outputs": [
    {
     "name": "stdout",
     "output_type": "stream",
     "text": [
      "Hello Mr. Abdul Karim your age is 25.\n"
     ]
    }
   ],
   "source": [
    "print(f\"Hello Mr. {name} your age is {age}.\")"
   ]
  },
  {
   "cell_type": "markdown",
   "id": "192a927e-8112-43d6-bfde-de650a527b57",
   "metadata": {},
   "source": [
    "### length()"
   ]
  },
  {
   "cell_type": "code",
   "execution_count": 20,
   "id": "303311c2-83ac-432e-bc2c-23c518bb4b3f",
   "metadata": {},
   "outputs": [
    {
     "data": {
      "text/plain": [
       "11"
      ]
     },
     "execution_count": 20,
     "metadata": {},
     "output_type": "execute_result"
    }
   ],
   "source": [
    "len(name)"
   ]
  },
  {
   "cell_type": "markdown",
   "id": "9954f226-d482-401b-acfb-3e2b5bf8d312",
   "metadata": {},
   "source": [
    "### slicing"
   ]
  },
  {
   "cell_type": "code",
   "execution_count": 21,
   "id": "99f8e500-e5ed-407f-995f-430fc0249816",
   "metadata": {},
   "outputs": [
    {
     "data": {
      "text/plain": [
       "'b'"
      ]
     },
     "execution_count": 21,
     "metadata": {},
     "output_type": "execute_result"
    }
   ],
   "source": [
    "name[1]"
   ]
  },
  {
   "cell_type": "code",
   "execution_count": 22,
   "id": "ae91bd41-ce2a-46bf-8cca-eceeb1009f2c",
   "metadata": {},
   "outputs": [
    {
     "data": {
      "text/plain": [
       "'Abdul'"
      ]
     },
     "execution_count": 22,
     "metadata": {},
     "output_type": "execute_result"
    }
   ],
   "source": [
    "# name[start:stop]\n",
    "name[:5]"
   ]
  },
  {
   "cell_type": "code",
   "execution_count": 23,
   "id": "dbdf55ca-3230-4853-887f-cde17c6ab86a",
   "metadata": {},
   "outputs": [
    {
     "data": {
      "text/plain": [
       "'Karim'"
      ]
     },
     "execution_count": 23,
     "metadata": {},
     "output_type": "execute_result"
    }
   ],
   "source": [
    "name[-5:]"
   ]
  },
  {
   "cell_type": "code",
   "execution_count": 24,
   "id": "0674a9d8-747c-4b7e-8d2f-1e47929f0c34",
   "metadata": {},
   "outputs": [
    {
     "data": {
      "text/plain": [
       "'Abdul '"
      ]
     },
     "execution_count": 24,
     "metadata": {},
     "output_type": "execute_result"
    }
   ],
   "source": [
    "name[:-5]"
   ]
  },
  {
   "cell_type": "code",
   "execution_count": 25,
   "id": "57ca15f7-1e96-459b-922f-ec0de63174d7",
   "metadata": {},
   "outputs": [
    {
     "data": {
      "text/plain": [
       "'Ka'"
      ]
     },
     "execution_count": 25,
     "metadata": {},
     "output_type": "execute_result"
    }
   ],
   "source": [
    "name [-5:-3]"
   ]
  },
  {
   "cell_type": "code",
   "execution_count": 26,
   "id": "4ef76065-91ee-453b-8210-96ec193bcc86",
   "metadata": {},
   "outputs": [
    {
     "data": {
      "text/plain": [
       "' Ka'"
      ]
     },
     "execution_count": 26,
     "metadata": {},
     "output_type": "execute_result"
    }
   ],
   "source": [
    "name[5:-3]"
   ]
  },
  {
   "cell_type": "code",
   "execution_count": 27,
   "id": "e59b74cb-65bf-4bc1-a5e6-2f867bd9768a",
   "metadata": {},
   "outputs": [
    {
     "name": "stdin",
     "output_type": "stream",
     "text": [
      "what is your address  Naz Plaza\n"
     ]
    },
    {
     "name": "stdout",
     "output_type": "stream",
     "text": [
      "Naz  Plaza\n"
     ]
    }
   ],
   "source": [
    "address = input(\"what is your address \")\n",
    "print(address[:3], address[-6:])"
   ]
  },
  {
   "cell_type": "code",
   "execution_count": 28,
   "id": "9dc5afc4-75a2-47d4-892d-85d71e73d0ec",
   "metadata": {},
   "outputs": [
    {
     "data": {
      "text/plain": [
       "11"
      ]
     },
     "execution_count": 28,
     "metadata": {},
     "output_type": "execute_result"
    }
   ],
   "source": [
    "len(name)"
   ]
  },
  {
   "cell_type": "code",
   "execution_count": 29,
   "id": "9c37a46d-d262-46be-98c2-29049ed0ff13",
   "metadata": {
    "scrolled": true
   },
   "outputs": [
    {
     "name": "stdin",
     "output_type": "stream",
     "text": [
      "What is your name  Abdul Karim\n"
     ]
    },
    {
     "name": "stdout",
     "output_type": "stream",
     "text": [
      "ABDUL KARIM\n"
     ]
    }
   ],
   "source": [
    "## Print name in Upper case\n",
    "name1 = input(\"What is your name \")\n",
    "print(name1.upper())"
   ]
  },
  {
   "cell_type": "code",
   "execution_count": 30,
   "id": "7c35cee9-eb97-4dbe-ae3d-6f3386507dbe",
   "metadata": {},
   "outputs": [
    {
     "name": "stdin",
     "output_type": "stream",
     "text": [
      "what is the radius 5\n"
     ]
    },
    {
     "name": "stdout",
     "output_type": "stream",
     "text": [
      "circle area is  78.55\n"
     ]
    }
   ],
   "source": [
    "## Area of Circle\n",
    "radius = input(\"what is the radius\")\n",
    "radius = int(radius)\n",
    "area = 3.142*(radius**2)\n",
    "print(\"circle area is \",area)"
   ]
  },
  {
   "cell_type": "code",
   "execution_count": 31,
   "id": "b621731d-e58e-4015-8eaf-fe1768d2ec5a",
   "metadata": {},
   "outputs": [
    {
     "name": "stdin",
     "output_type": "stream",
     "text": [
      "What is l  40\n",
      "what is b  50\n"
     ]
    },
    {
     "name": "stdout",
     "output_type": "stream",
     "text": [
      "2000\n"
     ]
    }
   ],
   "source": [
    "## Rectangle area\n",
    "l = int(input(\"What is l \"))\n",
    "b = int(input(\"what is b \"))\n",
    "rec_area = l*b\n",
    "print(rec_area)"
   ]
  },
  {
   "cell_type": "code",
   "execution_count": 32,
   "id": "3e1589c8-a176-4e14-ade7-45115edd33ea",
   "metadata": {},
   "outputs": [
    {
     "name": "stdout",
     "output_type": "stream",
     "text": [
      "0\n"
     ]
    }
   ],
   "source": [
    "## Finding if number is even\n",
    "print(12%2) ## if the output is zero then i"
   ]
  },
  {
   "cell_type": "code",
   "execution_count": null,
   "id": "ce60d9aa-f729-4266-afdb-3bccd102f290",
   "metadata": {},
   "outputs": [],
   "source": []
  }
 ],
 "metadata": {
  "kernelspec": {
   "display_name": "Python 3 (ipykernel)",
   "language": "python",
   "name": "python3"
  },
  "language_info": {
   "codemirror_mode": {
    "name": "ipython",
    "version": 3
   },
   "file_extension": ".py",
   "mimetype": "text/x-python",
   "name": "python",
   "nbconvert_exporter": "python",
   "pygments_lexer": "ipython3",
   "version": "3.12.7"
  }
 },
 "nbformat": 4,
 "nbformat_minor": 5
}
